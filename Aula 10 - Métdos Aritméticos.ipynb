{
 "cells": [
  {
   "cell_type": "markdown",
   "id": "4dfc25bd",
   "metadata": {},
   "source": [
    "# **Métodos Aritméticos**\n",
    "\n",
    "*  A biblioteca pandas possui vários métodos para realização de cálculos em colunas:\n",
    "    * **abs**: retorna uma lista com os valores absolutos da coluna.\n",
    "    * **count**: conta o número de células da coluna que possuem valores disponíveis.\n",
    "    * **nunique**: conta os valores distintos na coluna.\n",
    "    * **sum**: calcula a soma dos valores da coluna.\n",
    "    * **min**: obtém o menor valor da coluna.\n",
    "    * **max**: obtém o maior valor da coluna.\n",
    "    * **mean**: calcula a média dos valores da coluna.\n",
    "    * **median**: obtém a mediana dos valores da coluna."
   ]
  },
  {
   "cell_type": "code",
   "execution_count": 1,
   "id": "7d1a5cee",
   "metadata": {},
   "outputs": [],
   "source": [
    "import pandas as pd"
   ]
  },
  {
   "cell_type": "code",
   "execution_count": 2,
   "id": "eaf4fad3",
   "metadata": {},
   "outputs": [
    {
     "data": {
      "text/html": [
       "<div>\n",
       "<style scoped>\n",
       "    .dataframe tbody tr th:only-of-type {\n",
       "        vertical-align: middle;\n",
       "    }\n",
       "\n",
       "    .dataframe tbody tr th {\n",
       "        vertical-align: top;\n",
       "    }\n",
       "\n",
       "    .dataframe thead th {\n",
       "        text-align: right;\n",
       "    }\n",
       "</style>\n",
       "<table border=\"1\" class=\"dataframe\">\n",
       "  <thead>\n",
       "    <tr style=\"text-align: right;\">\n",
       "      <th></th>\n",
       "      <th>Nomes</th>\n",
       "      <th>Idades</th>\n",
       "      <th>Profissão</th>\n",
       "      <th>E-mail</th>\n",
       "      <th>Sexo</th>\n",
       "    </tr>\n",
       "  </thead>\n",
       "  <tbody>\n",
       "    <tr>\n",
       "      <th>0</th>\n",
       "      <td>Cebolinha</td>\n",
       "      <td>23</td>\n",
       "      <td>Engenheiro Cívil</td>\n",
       "      <td>cebolinha@gmail.com</td>\n",
       "      <td>M</td>\n",
       "    </tr>\n",
       "    <tr>\n",
       "      <th>1</th>\n",
       "      <td>Sandro</td>\n",
       "      <td>20</td>\n",
       "      <td>Estudante</td>\n",
       "      <td>sandro_santos@gmail.com</td>\n",
       "      <td>M</td>\n",
       "    </tr>\n",
       "    <tr>\n",
       "      <th>2</th>\n",
       "      <td>Fernando</td>\n",
       "      <td>22</td>\n",
       "      <td>Estudante</td>\n",
       "      <td>fernandoFM@gmail.com</td>\n",
       "      <td>M</td>\n",
       "    </tr>\n",
       "    <tr>\n",
       "      <th>3</th>\n",
       "      <td>Pedro</td>\n",
       "      <td>32</td>\n",
       "      <td>Estudante</td>\n",
       "      <td>pedropp@gmail.com</td>\n",
       "      <td>M</td>\n",
       "    </tr>\n",
       "    <tr>\n",
       "      <th>4</th>\n",
       "      <td>Konde</td>\n",
       "      <td>47</td>\n",
       "      <td>Músico</td>\n",
       "      <td>konde@gmail.com</td>\n",
       "      <td>M</td>\n",
       "    </tr>\n",
       "    <tr>\n",
       "      <th>5</th>\n",
       "      <td>Cisco</td>\n",
       "      <td>18</td>\n",
       "      <td>Estudante</td>\n",
       "      <td>francisco@gmail.com</td>\n",
       "      <td>M</td>\n",
       "    </tr>\n",
       "    <tr>\n",
       "      <th>6</th>\n",
       "      <td>Gerson</td>\n",
       "      <td>28</td>\n",
       "      <td>Estudante</td>\n",
       "      <td>Gerson@gmail.com</td>\n",
       "      <td>M</td>\n",
       "    </tr>\n",
       "    <tr>\n",
       "      <th>7</th>\n",
       "      <td>Manuela</td>\n",
       "      <td>25</td>\n",
       "      <td>Comerciante</td>\n",
       "      <td>manuela@gmail.com</td>\n",
       "      <td>F</td>\n",
       "    </tr>\n",
       "    <tr>\n",
       "      <th>8</th>\n",
       "      <td>Carla</td>\n",
       "      <td>23</td>\n",
       "      <td>Cantora</td>\n",
       "      <td>carla@gmail.com</td>\n",
       "      <td>F</td>\n",
       "    </tr>\n",
       "    <tr>\n",
       "      <th>9</th>\n",
       "      <td>Bruna</td>\n",
       "      <td>18</td>\n",
       "      <td>Estudante</td>\n",
       "      <td>bruna@gmail.com</td>\n",
       "      <td>F</td>\n",
       "    </tr>\n",
       "  </tbody>\n",
       "</table>\n",
       "</div>"
      ],
      "text/plain": [
       "       Nomes  Idades         Profissão                   E-mail Sexo\n",
       "0  Cebolinha      23  Engenheiro Cívil      cebolinha@gmail.com    M\n",
       "1     Sandro      20         Estudante  sandro_santos@gmail.com    M\n",
       "2   Fernando      22         Estudante     fernandoFM@gmail.com    M\n",
       "3      Pedro      32         Estudante        pedropp@gmail.com    M\n",
       "4      Konde      47            Músico          konde@gmail.com    M\n",
       "5      Cisco      18         Estudante      francisco@gmail.com    M\n",
       "6     Gerson      28         Estudante         Gerson@gmail.com    M\n",
       "7    Manuela      25       Comerciante        manuela@gmail.com    F\n",
       "8      Carla      23           Cantora          carla@gmail.com    F\n",
       "9      Bruna      18         Estudante          bruna@gmail.com    F"
      ]
     },
     "execution_count": 2,
     "metadata": {},
     "output_type": "execute_result"
    }
   ],
   "source": [
    "df = pd.read_csv(\"info_alunos2.csv\")\n",
    "df"
   ]
  },
  {
   "cell_type": "code",
   "execution_count": null,
   "id": "551d3a07",
   "metadata": {},
   "outputs": [
    {
     "name": "stdout",
     "output_type": "stream",
     "text": [
      "10\n"
     ]
    }
   ],
   "source": [
    "print(df.Idades.count()) # O numero de celulas(linhas) que a nossa df tem"
   ]
  },
  {
   "cell_type": "code",
   "execution_count": 17,
   "id": "3f4f400f",
   "metadata": {},
   "outputs": [
    {
     "name": "stdout",
     "output_type": "stream",
     "text": [
      "[23, 20, 22, 32, 47, 18, 28, 25, 23, 18]\n"
     ]
    }
   ],
   "source": [
    "print(df.Idades.abs().tolist()) # retornando a lista de valores absolutos da coluna"
   ]
  },
  {
   "cell_type": "code",
   "execution_count": null,
   "id": "36fa0ad0",
   "metadata": {},
   "outputs": [
    {
     "data": {
      "text/plain": [
       "(10, 5)"
      ]
     },
     "execution_count": 14,
     "metadata": {},
     "output_type": "execute_result"
    }
   ],
   "source": [
    "df.shape # vendo quantas linas nós temos"
   ]
  },
  {
   "cell_type": "code",
   "execution_count": 10,
   "id": "0e694439",
   "metadata": {},
   "outputs": [
    {
     "data": {
      "text/plain": [
       "5"
      ]
     },
     "execution_count": 10,
     "metadata": {},
     "output_type": "execute_result"
    }
   ],
   "source": [
    "df[\"Profissão\"].nunique()"
   ]
  },
  {
   "cell_type": "code",
   "execution_count": 19,
   "id": "424ba636",
   "metadata": {},
   "outputs": [
    {
     "name": "stdout",
     "output_type": "stream",
     "text": [
      "256\n"
     ]
    }
   ],
   "source": [
    "print(df.Idades.sum()) # A soma das idades"
   ]
  },
  {
   "cell_type": "code",
   "execution_count": null,
   "id": "9a2ee052",
   "metadata": {},
   "outputs": [
    {
     "data": {
      "text/plain": [
       "Nomes        10\n",
       "Idades        8\n",
       "Profissão     5\n",
       "E-mail       10\n",
       "Sexo          2\n",
       "dtype: int64"
      ]
     },
     "execution_count": 20,
     "metadata": {},
     "output_type": "execute_result"
    }
   ],
   "source": [
    "df.nunique() # numero de valore unicos na tabela"
   ]
  },
  {
   "cell_type": "code",
   "execution_count": 23,
   "id": "617c3d85",
   "metadata": {},
   "outputs": [
    {
     "data": {
      "text/plain": [
       "array(['Engenheiro Cívil', 'Estudante', 'Músico', 'Comerciante',\n",
       "       'Cantora'], dtype=object)"
      ]
     },
     "execution_count": 23,
     "metadata": {},
     "output_type": "execute_result"
    }
   ],
   "source": [
    "df[\"Profissão\"].unique()"
   ]
  },
  {
   "cell_type": "code",
   "execution_count": 48,
   "id": "9ca26e54",
   "metadata": {},
   "outputs": [
    {
     "name": "stdout",
     "output_type": "stream",
     "text": [
      "18\n"
     ]
    }
   ],
   "source": [
    "print(df.Idades.min())# Quem é a idade minima pesente no dataset"
   ]
  },
  {
   "cell_type": "code",
   "execution_count": 49,
   "id": "548eb707",
   "metadata": {},
   "outputs": [
    {
     "name": "stdout",
     "output_type": "stream",
     "text": [
      "47\n"
     ]
    }
   ],
   "source": [
    "print(df.Idades.max())# Quem é a idade maxima pesente no dataset"
   ]
  },
  {
   "cell_type": "code",
   "execution_count": 51,
   "id": "aa370450",
   "metadata": {},
   "outputs": [
    {
     "name": "stdout",
     "output_type": "stream",
     "text": [
      "25.6\n"
     ]
    }
   ],
   "source": [
    "print(df.Idades.mean())# A media das idades"
   ]
  },
  {
   "cell_type": "code",
   "execution_count": 52,
   "id": "7bafcae6",
   "metadata": {},
   "outputs": [
    {
     "name": "stdout",
     "output_type": "stream",
     "text": [
      "23.0\n"
     ]
    }
   ],
   "source": [
    "print(df.Idades.median()) # A mediana das idades"
   ]
  },
  {
   "cell_type": "markdown",
   "id": "c33172d3",
   "metadata": {},
   "source": [
    "# Outros Métodos\n",
    "*  **copy:** retorna uma cópia do DataFrame.\n",
    "*  **head:** retorna as n primeiras linhas do DataFrame (padrão: 5).\n",
    "*  **tail:** retorna as n últimas linhas do DataFrame (padrão: 5)."
   ]
  },
  {
   "cell_type": "code",
   "execution_count": 56,
   "id": "1cc72954",
   "metadata": {},
   "outputs": [
    {
     "data": {
      "text/html": [
       "<div>\n",
       "<style scoped>\n",
       "    .dataframe tbody tr th:only-of-type {\n",
       "        vertical-align: middle;\n",
       "    }\n",
       "\n",
       "    .dataframe tbody tr th {\n",
       "        vertical-align: top;\n",
       "    }\n",
       "\n",
       "    .dataframe thead th {\n",
       "        text-align: right;\n",
       "    }\n",
       "</style>\n",
       "<table border=\"1\" class=\"dataframe\">\n",
       "  <thead>\n",
       "    <tr style=\"text-align: right;\">\n",
       "      <th></th>\n",
       "      <th>Nomes</th>\n",
       "      <th>Idades</th>\n",
       "      <th>Profissão</th>\n",
       "      <th>E-mail</th>\n",
       "      <th>Sexo</th>\n",
       "    </tr>\n",
       "  </thead>\n",
       "  <tbody>\n",
       "    <tr>\n",
       "      <th>0</th>\n",
       "      <td>Cebolinha</td>\n",
       "      <td>23</td>\n",
       "      <td>Engenheiro Cívil</td>\n",
       "      <td>cebolinha@gmail.com</td>\n",
       "      <td>M</td>\n",
       "    </tr>\n",
       "    <tr>\n",
       "      <th>1</th>\n",
       "      <td>Sandro</td>\n",
       "      <td>20</td>\n",
       "      <td>Estudante</td>\n",
       "      <td>sandro_santos@gmail.com</td>\n",
       "      <td>M</td>\n",
       "    </tr>\n",
       "    <tr>\n",
       "      <th>2</th>\n",
       "      <td>Fernando</td>\n",
       "      <td>22</td>\n",
       "      <td>Estudante</td>\n",
       "      <td>fernandoFM@gmail.com</td>\n",
       "      <td>M</td>\n",
       "    </tr>\n",
       "    <tr>\n",
       "      <th>3</th>\n",
       "      <td>Pedro</td>\n",
       "      <td>32</td>\n",
       "      <td>Estudante</td>\n",
       "      <td>pedropp@gmail.com</td>\n",
       "      <td>M</td>\n",
       "    </tr>\n",
       "    <tr>\n",
       "      <th>4</th>\n",
       "      <td>Konde</td>\n",
       "      <td>47</td>\n",
       "      <td>Músico</td>\n",
       "      <td>konde@gmail.com</td>\n",
       "      <td>M</td>\n",
       "    </tr>\n",
       "    <tr>\n",
       "      <th>5</th>\n",
       "      <td>Cisco</td>\n",
       "      <td>18</td>\n",
       "      <td>Estudante</td>\n",
       "      <td>francisco@gmail.com</td>\n",
       "      <td>M</td>\n",
       "    </tr>\n",
       "    <tr>\n",
       "      <th>6</th>\n",
       "      <td>Gerson</td>\n",
       "      <td>28</td>\n",
       "      <td>Estudante</td>\n",
       "      <td>Gerson@gmail.com</td>\n",
       "      <td>M</td>\n",
       "    </tr>\n",
       "    <tr>\n",
       "      <th>7</th>\n",
       "      <td>Manuela</td>\n",
       "      <td>25</td>\n",
       "      <td>Comerciante</td>\n",
       "      <td>manuela@gmail.com</td>\n",
       "      <td>F</td>\n",
       "    </tr>\n",
       "    <tr>\n",
       "      <th>8</th>\n",
       "      <td>Carla</td>\n",
       "      <td>23</td>\n",
       "      <td>Cantora</td>\n",
       "      <td>carla@gmail.com</td>\n",
       "      <td>F</td>\n",
       "    </tr>\n",
       "    <tr>\n",
       "      <th>9</th>\n",
       "      <td>Bruna</td>\n",
       "      <td>18</td>\n",
       "      <td>Estudante</td>\n",
       "      <td>bruna@gmail.com</td>\n",
       "      <td>F</td>\n",
       "    </tr>\n",
       "  </tbody>\n",
       "</table>\n",
       "</div>"
      ],
      "text/plain": [
       "       Nomes  Idades         Profissão                   E-mail Sexo\n",
       "0  Cebolinha      23  Engenheiro Cívil      cebolinha@gmail.com    M\n",
       "1     Sandro      20         Estudante  sandro_santos@gmail.com    M\n",
       "2   Fernando      22         Estudante     fernandoFM@gmail.com    M\n",
       "3      Pedro      32         Estudante        pedropp@gmail.com    M\n",
       "4      Konde      47            Músico          konde@gmail.com    M\n",
       "5      Cisco      18         Estudante      francisco@gmail.com    M\n",
       "6     Gerson      28         Estudante         Gerson@gmail.com    M\n",
       "7    Manuela      25       Comerciante        manuela@gmail.com    F\n",
       "8      Carla      23           Cantora          carla@gmail.com    F\n",
       "9      Bruna      18         Estudante          bruna@gmail.com    F"
      ]
     },
     "execution_count": 56,
     "metadata": {},
     "output_type": "execute_result"
    }
   ],
   "source": [
    "df_2 = df.copy() # Retorna uma copia do dataset\n",
    "df_2"
   ]
  },
  {
   "cell_type": "code",
   "execution_count": 60,
   "id": "48107b2f",
   "metadata": {},
   "outputs": [
    {
     "data": {
      "text/html": [
       "<div>\n",
       "<style scoped>\n",
       "    .dataframe tbody tr th:only-of-type {\n",
       "        vertical-align: middle;\n",
       "    }\n",
       "\n",
       "    .dataframe tbody tr th {\n",
       "        vertical-align: top;\n",
       "    }\n",
       "\n",
       "    .dataframe thead th {\n",
       "        text-align: right;\n",
       "    }\n",
       "</style>\n",
       "<table border=\"1\" class=\"dataframe\">\n",
       "  <thead>\n",
       "    <tr style=\"text-align: right;\">\n",
       "      <th></th>\n",
       "      <th>Nomes</th>\n",
       "      <th>Idades</th>\n",
       "      <th>Profissão</th>\n",
       "      <th>E-mail</th>\n",
       "      <th>Sexo</th>\n",
       "    </tr>\n",
       "  </thead>\n",
       "  <tbody>\n",
       "    <tr>\n",
       "      <th>0</th>\n",
       "      <td>Cebolinha</td>\n",
       "      <td>23</td>\n",
       "      <td>Engenheiro Cívil</td>\n",
       "      <td>cebolinha@gmail.com</td>\n",
       "      <td>M</td>\n",
       "    </tr>\n",
       "    <tr>\n",
       "      <th>1</th>\n",
       "      <td>Sandro</td>\n",
       "      <td>20</td>\n",
       "      <td>Estudante</td>\n",
       "      <td>sandro_santos@gmail.com</td>\n",
       "      <td>M</td>\n",
       "    </tr>\n",
       "    <tr>\n",
       "      <th>2</th>\n",
       "      <td>Fernando</td>\n",
       "      <td>22</td>\n",
       "      <td>Estudante</td>\n",
       "      <td>fernandoFM@gmail.com</td>\n",
       "      <td>M</td>\n",
       "    </tr>\n",
       "    <tr>\n",
       "      <th>3</th>\n",
       "      <td>Pedro</td>\n",
       "      <td>32</td>\n",
       "      <td>Estudante</td>\n",
       "      <td>pedropp@gmail.com</td>\n",
       "      <td>M</td>\n",
       "    </tr>\n",
       "    <tr>\n",
       "      <th>4</th>\n",
       "      <td>Konde</td>\n",
       "      <td>47</td>\n",
       "      <td>Músico</td>\n",
       "      <td>konde@gmail.com</td>\n",
       "      <td>M</td>\n",
       "    </tr>\n",
       "  </tbody>\n",
       "</table>\n",
       "</div>"
      ],
      "text/plain": [
       "       Nomes  Idades         Profissão                   E-mail Sexo\n",
       "0  Cebolinha      23  Engenheiro Cívil      cebolinha@gmail.com    M\n",
       "1     Sandro      20         Estudante  sandro_santos@gmail.com    M\n",
       "2   Fernando      22         Estudante     fernandoFM@gmail.com    M\n",
       "3      Pedro      32         Estudante        pedropp@gmail.com    M\n",
       "4      Konde      47            Músico          konde@gmail.com    M"
      ]
     },
     "execution_count": 60,
     "metadata": {},
     "output_type": "execute_result"
    }
   ],
   "source": [
    "df_2.head() # vendo as 5 primeiras linhas...(Editável)"
   ]
  },
  {
   "cell_type": "code",
   "execution_count": null,
   "id": "a4b37f8b",
   "metadata": {},
   "outputs": [
    {
     "data": {
      "text/html": [
       "<div>\n",
       "<style scoped>\n",
       "    .dataframe tbody tr th:only-of-type {\n",
       "        vertical-align: middle;\n",
       "    }\n",
       "\n",
       "    .dataframe tbody tr th {\n",
       "        vertical-align: top;\n",
       "    }\n",
       "\n",
       "    .dataframe thead th {\n",
       "        text-align: right;\n",
       "    }\n",
       "</style>\n",
       "<table border=\"1\" class=\"dataframe\">\n",
       "  <thead>\n",
       "    <tr style=\"text-align: right;\">\n",
       "      <th></th>\n",
       "      <th>Nomes</th>\n",
       "      <th>Idades</th>\n",
       "      <th>Profissão</th>\n",
       "      <th>E-mail</th>\n",
       "      <th>Sexo</th>\n",
       "    </tr>\n",
       "  </thead>\n",
       "  <tbody>\n",
       "    <tr>\n",
       "      <th>5</th>\n",
       "      <td>Cisco</td>\n",
       "      <td>18</td>\n",
       "      <td>Estudante</td>\n",
       "      <td>francisco@gmail.com</td>\n",
       "      <td>M</td>\n",
       "    </tr>\n",
       "    <tr>\n",
       "      <th>6</th>\n",
       "      <td>Gerson</td>\n",
       "      <td>28</td>\n",
       "      <td>Estudante</td>\n",
       "      <td>Gerson@gmail.com</td>\n",
       "      <td>M</td>\n",
       "    </tr>\n",
       "    <tr>\n",
       "      <th>7</th>\n",
       "      <td>Manuela</td>\n",
       "      <td>25</td>\n",
       "      <td>Comerciante</td>\n",
       "      <td>manuela@gmail.com</td>\n",
       "      <td>F</td>\n",
       "    </tr>\n",
       "    <tr>\n",
       "      <th>8</th>\n",
       "      <td>Carla</td>\n",
       "      <td>23</td>\n",
       "      <td>Cantora</td>\n",
       "      <td>carla@gmail.com</td>\n",
       "      <td>F</td>\n",
       "    </tr>\n",
       "    <tr>\n",
       "      <th>9</th>\n",
       "      <td>Bruna</td>\n",
       "      <td>18</td>\n",
       "      <td>Estudante</td>\n",
       "      <td>bruna@gmail.com</td>\n",
       "      <td>F</td>\n",
       "    </tr>\n",
       "  </tbody>\n",
       "</table>\n",
       "</div>"
      ],
      "text/plain": [
       "     Nomes  Idades    Profissão               E-mail Sexo\n",
       "5    Cisco      18    Estudante  francisco@gmail.com    M\n",
       "6   Gerson      28    Estudante     Gerson@gmail.com    M\n",
       "7  Manuela      25  Comerciante    manuela@gmail.com    F\n",
       "8    Carla      23      Cantora      carla@gmail.com    F\n",
       "9    Bruna      18    Estudante      bruna@gmail.com    F"
      ]
     },
     "execution_count": 59,
     "metadata": {},
     "output_type": "execute_result"
    }
   ],
   "source": [
    "df_2.tail() # Vendo as 5 ultimas linhas...(Editável)"
   ]
  }
 ],
 "metadata": {
  "kernelspec": {
   "display_name": "Python 3",
   "language": "python",
   "name": "python3"
  },
  "language_info": {
   "codemirror_mode": {
    "name": "ipython",
    "version": 3
   },
   "file_extension": ".py",
   "mimetype": "text/x-python",
   "name": "python",
   "nbconvert_exporter": "python",
   "pygments_lexer": "ipython3",
   "version": "3.13.2"
  }
 },
 "nbformat": 4,
 "nbformat_minor": 5
}
