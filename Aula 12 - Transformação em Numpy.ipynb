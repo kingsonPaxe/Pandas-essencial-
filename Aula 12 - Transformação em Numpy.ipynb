{
 "cells": [
  {
   "cell_type": "markdown",
   "id": "f68f2238",
   "metadata": {},
   "source": [
    "## **Transformação em NumPy Array**\n",
    "\n",
    "* Podemos transformar um objeto do tipo DataFrame em um array da biblioteca NumPy.\n",
    "* Para isto, devemos utilizar o método to_numpy.\n"
   ]
  },
  {
   "cell_type": "code",
   "execution_count": 1,
   "id": "390296f5",
   "metadata": {},
   "outputs": [],
   "source": [
    "import pandas as pd"
   ]
  },
  {
   "cell_type": "code",
   "execution_count": 12,
   "id": "fccc6b9f",
   "metadata": {},
   "outputs": [
    {
     "data": {
      "text/html": [
       "<div>\n",
       "<style scoped>\n",
       "    .dataframe tbody tr th:only-of-type {\n",
       "        vertical-align: middle;\n",
       "    }\n",
       "\n",
       "    .dataframe tbody tr th {\n",
       "        vertical-align: top;\n",
       "    }\n",
       "\n",
       "    .dataframe thead th {\n",
       "        text-align: right;\n",
       "    }\n",
       "</style>\n",
       "<table border=\"1\" class=\"dataframe\">\n",
       "  <thead>\n",
       "    <tr style=\"text-align: right;\">\n",
       "      <th></th>\n",
       "      <th>Idade</th>\n",
       "      <th>Altura</th>\n",
       "      <th>Peso</th>\n",
       "    </tr>\n",
       "  </thead>\n",
       "  <tbody>\n",
       "    <tr>\n",
       "      <th>Andre</th>\n",
       "      <td>20</td>\n",
       "      <td>1.75</td>\n",
       "      <td>80</td>\n",
       "    </tr>\n",
       "    <tr>\n",
       "      <th>Bruna</th>\n",
       "      <td>21</td>\n",
       "      <td>1.60</td>\n",
       "      <td>70</td>\n",
       "    </tr>\n",
       "    <tr>\n",
       "      <th>Carlos</th>\n",
       "      <td>25</td>\n",
       "      <td>1.89</td>\n",
       "      <td>85</td>\n",
       "    </tr>\n",
       "  </tbody>\n",
       "</table>\n",
       "</div>"
      ],
      "text/plain": [
       "        Idade  Altura  Peso\n",
       "Andre      20    1.75    80\n",
       "Bruna      21    1.60    70\n",
       "Carlos     25    1.89    85"
      ]
     },
     "execution_count": 12,
     "metadata": {},
     "output_type": "execute_result"
    }
   ],
   "source": [
    "df = pd.DataFrame({\n",
    " 'Idade': [20, 21, 25],\n",
    " 'Altura': [1.75, 1.60, 1.89],\n",
    " 'Peso': [80, 70, 85]},\n",
    "  index= ['Andre', 'Bruna', 'Carlos'])\n",
    "\n",
    "df\n"
   ]
  },
  {
   "cell_type": "code",
   "execution_count": 13,
   "id": "1c48d230",
   "metadata": {},
   "outputs": [
    {
     "data": {
      "text/plain": [
       "array([[20.  ,  1.75, 80.  ],\n",
       "       [21.  ,  1.6 , 70.  ],\n",
       "       [25.  ,  1.89, 85.  ]])"
      ]
     },
     "execution_count": 13,
     "metadata": {},
     "output_type": "execute_result"
    }
   ],
   "source": [
    "df.to_numpy()"
   ]
  },
  {
   "cell_type": "code",
   "execution_count": 20,
   "id": "5aa8004f",
   "metadata": {},
   "outputs": [
    {
     "name": "stdout",
     "output_type": "stream",
     "text": [
      "[20 21 25]\n",
      "[1.75 1.6  1.89]\n",
      "[80 70 85]\n"
     ]
    }
   ],
   "source": [
    "print(df.loc[:, \"Idade\"].to_numpy())\n",
    "print(df.loc[:, \"Altura\"].to_numpy())\n",
    "print(df.loc[:, \"Peso\"].to_numpy())\n"
   ]
  },
  {
   "cell_type": "markdown",
   "id": "2d6d802a",
   "metadata": {},
   "source": [
    "## **Att**: Podes usar também o to_list()"
   ]
  },
  {
   "cell_type": "code",
   "execution_count": 25,
   "id": "b5c3d197",
   "metadata": {},
   "outputs": [
    {
     "name": "stdout",
     "output_type": "stream",
     "text": [
      "[20, 21, 25]\n",
      "[1.75, 1.6, 1.89]\n",
      "[80, 70, 85]\n"
     ]
    }
   ],
   "source": [
    "print(df.loc[:, \"Idade\"].to_list())\n",
    "print(df.loc[:, \"Altura\"].to_list())\n",
    "print(df.loc[:, \"Peso\"].to_list())"
   ]
  }
 ],
 "metadata": {
  "kernelspec": {
   "display_name": "Python 3",
   "language": "python",
   "name": "python3"
  },
  "language_info": {
   "codemirror_mode": {
    "name": "ipython",
    "version": 3
   },
   "file_extension": ".py",
   "mimetype": "text/x-python",
   "name": "python",
   "nbconvert_exporter": "python",
   "pygments_lexer": "ipython3",
   "version": "3.13.2"
  }
 },
 "nbformat": 4,
 "nbformat_minor": 5
}
