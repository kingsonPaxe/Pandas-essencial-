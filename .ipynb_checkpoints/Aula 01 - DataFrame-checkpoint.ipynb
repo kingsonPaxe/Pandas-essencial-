{
 "cells": [
  {
   "cell_type": "markdown",
   "id": "3de8e01a-c4d1-4a6c-9066-9c4a00924f55",
   "metadata": {},
   "source": [
    "# Pandas🐼 "
   ]
  },
  {
   "cell_type": "code",
   "execution_count": 42,
   "id": "7d049528-a776-4333-8cdc-c558b257dc82",
   "metadata": {},
   "outputs": [],
   "source": [
    "import pandas as pd # pd estamos apelidando "
   ]
  },
  {
   "cell_type": "markdown",
   "id": "5745edeb-a17e-468d-b03b-46bf73881048",
   "metadata": {},
   "source": [
    "# DataFrame"
   ]
  },
  {
   "cell_type": "code",
   "execution_count": 43,
   "id": "6c2084e1-614a-4975-bb32-30fe4c4352c7",
   "metadata": {},
   "outputs": [
    {
     "data": {
      "text/html": [
       "<div>\n",
       "<style scoped>\n",
       "    .dataframe tbody tr th:only-of-type {\n",
       "        vertical-align: middle;\n",
       "    }\n",
       "\n",
       "    .dataframe tbody tr th {\n",
       "        vertical-align: top;\n",
       "    }\n",
       "\n",
       "    .dataframe thead th {\n",
       "        text-align: right;\n",
       "    }\n",
       "</style>\n",
       "<table border=\"1\" class=\"dataframe\">\n",
       "  <thead>\n",
       "    <tr style=\"text-align: right;\">\n",
       "      <th></th>\n",
       "      <th>Nome</th>\n",
       "      <th>Idade</th>\n",
       "      <th>Cidade</th>\n",
       "    </tr>\n",
       "  </thead>\n",
       "  <tbody>\n",
       "    <tr>\n",
       "      <th>0</th>\n",
       "      <td>Alice</td>\n",
       "      <td>25</td>\n",
       "      <td>São Paulo</td>\n",
       "    </tr>\n",
       "    <tr>\n",
       "      <th>1</th>\n",
       "      <td>Bob</td>\n",
       "      <td>30</td>\n",
       "      <td>Rio de Janeiro</td>\n",
       "    </tr>\n",
       "    <tr>\n",
       "      <th>2</th>\n",
       "      <td>Carlos</td>\n",
       "      <td>22</td>\n",
       "      <td>Belo Horizonte</td>\n",
       "    </tr>\n",
       "  </tbody>\n",
       "</table>\n",
       "</div>"
      ],
      "text/plain": [
       "     Nome  Idade          Cidade\n",
       "0   Alice     25       São Paulo\n",
       "1     Bob     30  Rio de Janeiro\n",
       "2  Carlos     22  Belo Horizonte"
      ]
     },
     "metadata": {},
     "output_type": "display_data"
    },
    {
     "name": "stdout",
     "output_type": "stream",
     "text": [
      "Essa tabela tem 2 dimensões\n"
     ]
    }
   ],
   "source": [
    "dados = {\n",
    "    \"Nome\": [\"Alice\", \"Bob\", \"Carlos\"],\n",
    "    \"Idade\": [25, 30, 22],\n",
    "    \"Cidade\": [\"São Paulo\", \"Rio de Janeiro\", \"Belo Horizonte\"]\n",
    "}\n",
    "\n",
    "\n",
    "\n",
    "dtf = pd.DataFrame(dados)\n",
    "display(dtf)\n",
    "# vendo a dimensão\n",
    "print(f\"Essa tabela tem {dtf.ndim} dimensões\")"
   ]
  },
  {
   "cell_type": "markdown",
   "id": "759844a2-3277-49f6-85c5-27eaa5d28a42",
   "metadata": {},
   "source": [
    "## Parâmetros  do DataFrame(data, index, columns, dtype)"
   ]
  },
  {
   "cell_type": "markdown",
   "id": "6573d3be-9fc8-445a-8a39-a133ac101af8",
   "metadata": {},
   "source": [
    "## Explorando o parâmetro data\n",
    "*    Para o dataframe o parametro **data** pode receber varios tipos como por exemplo:\n",
    "        * Lista\n",
    "        * dicionario\n",
    "        * DataFrame existente também\n",
    "     "
   ]
  },
  {
   "cell_type": "markdown",
   "id": "638de785-c62b-4dc2-a5dd-cc90d9a1bf46",
   "metadata": {},
   "source": [
    "## Exemplo com lista"
   ]
  },
  {
   "cell_type": "code",
   "execution_count": 44,
   "id": "15a4c59e-6d53-4806-834c-aa5fcccc15f8",
   "metadata": {},
   "outputs": [
    {
     "data": {
      "text/html": [
       "<div>\n",
       "<style scoped>\n",
       "    .dataframe tbody tr th:only-of-type {\n",
       "        vertical-align: middle;\n",
       "    }\n",
       "\n",
       "    .dataframe tbody tr th {\n",
       "        vertical-align: top;\n",
       "    }\n",
       "\n",
       "    .dataframe thead th {\n",
       "        text-align: right;\n",
       "    }\n",
       "</style>\n",
       "<table border=\"1\" class=\"dataframe\">\n",
       "  <thead>\n",
       "    <tr style=\"text-align: right;\">\n",
       "      <th></th>\n",
       "      <th>Nomes</th>\n",
       "    </tr>\n",
       "  </thead>\n",
       "  <tbody>\n",
       "    <tr>\n",
       "      <th>0</th>\n",
       "      <td>Paulo</td>\n",
       "    </tr>\n",
       "    <tr>\n",
       "      <th>1</th>\n",
       "      <td>Sandro</td>\n",
       "    </tr>\n",
       "    <tr>\n",
       "      <th>2</th>\n",
       "      <td>Frederico</td>\n",
       "    </tr>\n",
       "  </tbody>\n",
       "</table>\n",
       "</div>"
      ],
      "text/plain": [
       "       Nomes\n",
       "0      Paulo\n",
       "1     Sandro\n",
       "2  Frederico"
      ]
     },
     "execution_count": 44,
     "metadata": {},
     "output_type": "execute_result"
    }
   ],
   "source": [
    "lista = [\"Paulo\", \"Sandro\", \"Frederico\"]\n",
    "dtf2 = pd.DataFrame(lista, columns = [\"Nomes\"])\n",
    "dtf2"
   ]
  },
  {
   "cell_type": "markdown",
   "id": "d2fb3e2c-8bed-4cd1-878c-c2121a9909ec",
   "metadata": {},
   "source": [
    "## Exemplo com Dicionário"
   ]
  },
  {
   "cell_type": "code",
   "execution_count": 45,
   "id": "0bc78413-37b3-4943-8e52-c6293e3384be",
   "metadata": {},
   "outputs": [
    {
     "data": {
      "text/html": [
       "<div>\n",
       "<style scoped>\n",
       "    .dataframe tbody tr th:only-of-type {\n",
       "        vertical-align: middle;\n",
       "    }\n",
       "\n",
       "    .dataframe tbody tr th {\n",
       "        vertical-align: top;\n",
       "    }\n",
       "\n",
       "    .dataframe thead th {\n",
       "        text-align: right;\n",
       "    }\n",
       "</style>\n",
       "<table border=\"1\" class=\"dataframe\">\n",
       "  <thead>\n",
       "    <tr style=\"text-align: right;\">\n",
       "      <th></th>\n",
       "      <th>Nomes</th>\n",
       "      <th>Idades</th>\n",
       "    </tr>\n",
       "  </thead>\n",
       "  <tbody>\n",
       "    <tr>\n",
       "      <th>0</th>\n",
       "      <td>Paulo</td>\n",
       "      <td>12</td>\n",
       "    </tr>\n",
       "    <tr>\n",
       "      <th>1</th>\n",
       "      <td>Sandro</td>\n",
       "      <td>20</td>\n",
       "    </tr>\n",
       "    <tr>\n",
       "      <th>2</th>\n",
       "      <td>Frederico</td>\n",
       "      <td>20</td>\n",
       "    </tr>\n",
       "  </tbody>\n",
       "</table>\n",
       "</div>"
      ],
      "text/plain": [
       "       Nomes  Idades\n",
       "0      Paulo      12\n",
       "1     Sandro      20\n",
       "2  Frederico      20"
      ]
     },
     "execution_count": 45,
     "metadata": {},
     "output_type": "execute_result"
    }
   ],
   "source": [
    "dict = {\n",
    "    \"Nomes\":lista, # Praticamente so peguei os valores que estão na variavel lista\n",
    "    \"Idades\":[12,20,20]\n",
    "}\n",
    "\n",
    "dft3 = pd.DataFrame(dict)\n",
    "dft3"
   ]
  },
  {
   "cell_type": "markdown",
   "id": "86083507-c880-42a4-a03f-7d9d4c59f678",
   "metadata": {},
   "source": [
    "## Exemplo com um DataFrame existente"
   ]
  },
  {
   "cell_type": "code",
   "execution_count": 46,
   "id": "6cb1e6a6-6b54-48e1-bfd2-6b807d075b6e",
   "metadata": {},
   "outputs": [
    {
     "data": {
      "text/html": [
       "<div>\n",
       "<style scoped>\n",
       "    .dataframe tbody tr th:only-of-type {\n",
       "        vertical-align: middle;\n",
       "    }\n",
       "\n",
       "    .dataframe tbody tr th {\n",
       "        vertical-align: top;\n",
       "    }\n",
       "\n",
       "    .dataframe thead th {\n",
       "        text-align: right;\n",
       "    }\n",
       "</style>\n",
       "<table border=\"1\" class=\"dataframe\">\n",
       "  <thead>\n",
       "    <tr style=\"text-align: right;\">\n",
       "      <th></th>\n",
       "      <th>Nomes</th>\n",
       "      <th>Idades</th>\n",
       "    </tr>\n",
       "  </thead>\n",
       "  <tbody>\n",
       "    <tr>\n",
       "      <th>0</th>\n",
       "      <td>Paulo</td>\n",
       "      <td>12</td>\n",
       "    </tr>\n",
       "    <tr>\n",
       "      <th>1</th>\n",
       "      <td>Sandro</td>\n",
       "      <td>20</td>\n",
       "    </tr>\n",
       "    <tr>\n",
       "      <th>2</th>\n",
       "      <td>Frederico</td>\n",
       "      <td>20</td>\n",
       "    </tr>\n",
       "  </tbody>\n",
       "</table>\n",
       "</div>"
      ],
      "text/plain": [
       "       Nomes  Idades\n",
       "0      Paulo      12\n",
       "1     Sandro      20\n",
       "2  Frederico      20"
      ]
     },
     "execution_count": 46,
     "metadata": {},
     "output_type": "execute_result"
    }
   ],
   "source": [
    "dft4 = pd.DataFrame(dft3)\n",
    "dft4 # resultado"
   ]
  },
  {
   "cell_type": "markdown",
   "id": "0c52ce4a",
   "metadata": {},
   "source": [
    "# Atributo index\n",
    "*   Ela serve para aceder ou mudar os \"ids\" de uma linha inteira onde ela pode receber lista ou numeros\n",
    "\n",
    "### Sintaxe: index = [srings] or index = [numbers]"
   ]
  },
  {
   "cell_type": "code",
   "execution_count": 47,
   "id": "c283d074",
   "metadata": {},
   "outputs": [
    {
     "name": "stdout",
     "output_type": "stream",
     "text": [
      "     Nome  Idade          Cidade\n",
      "a   Alice     25       São Paulo\n",
      "b     Bob     30  Rio de Janeiro\n",
      "c  Carlos     22  Belo Horizonte\n"
     ]
    }
   ],
   "source": [
    "# exemplo com string:\n",
    "\n",
    "dados_index = pd.DataFrame(dados, index = [\"a\", \"b\", \"c\"])\n",
    "print(dados_index)"
   ]
  },
  {
   "cell_type": "code",
   "execution_count": 48,
   "id": "4c9f4ab1",
   "metadata": {},
   "outputs": [
    {
     "name": "stdout",
     "output_type": "stream",
     "text": [
      "      Nome  Idade          Cidade\n",
      "10   Alice     25       São Paulo\n",
      "20     Bob     30  Rio de Janeiro\n",
      "30  Carlos     22  Belo Horizonte\n"
     ]
    }
   ],
   "source": [
    "# exemplo com numeros\n",
    "dados_index2 = pd.DataFrame(dados, index = [10, 20, 30])\n",
    "print(dados_index2)"
   ]
  },
  {
   "cell_type": "markdown",
   "id": "4ec5d64a",
   "metadata": {},
   "source": [
    "# Columns\n",
    "* recebe uma string ou uma lista de strings que definem os rótulos das colunas.\n"
   ]
  },
  {
   "cell_type": "code",
   "execution_count": 49,
   "id": "e2cbbdba",
   "metadata": {},
   "outputs": [
    {
     "name": "stdout",
     "output_type": "stream",
     "text": [
      "[('João', 19, 'Engenharia'), ('Maria', 20, 'Administração'), ('Pedro', 23, 'Direito'), ('Ana', 11, 'Medicina')]\n"
     ]
    },
    {
     "data": {
      "text/html": [
       "<div>\n",
       "<style scoped>\n",
       "    .dataframe tbody tr th:only-of-type {\n",
       "        vertical-align: middle;\n",
       "    }\n",
       "\n",
       "    .dataframe tbody tr th {\n",
       "        vertical-align: top;\n",
       "    }\n",
       "\n",
       "    .dataframe thead th {\n",
       "        text-align: right;\n",
       "    }\n",
       "</style>\n",
       "<table border=\"1\" class=\"dataframe\">\n",
       "  <thead>\n",
       "    <tr style=\"text-align: right;\">\n",
       "      <th></th>\n",
       "      <th>Nomes</th>\n",
       "      <th>Idades</th>\n",
       "      <th>Curso</th>\n",
       "    </tr>\n",
       "  </thead>\n",
       "  <tbody>\n",
       "    <tr>\n",
       "      <th>0</th>\n",
       "      <td>João</td>\n",
       "      <td>19</td>\n",
       "      <td>Engenharia</td>\n",
       "    </tr>\n",
       "    <tr>\n",
       "      <th>1</th>\n",
       "      <td>Maria</td>\n",
       "      <td>20</td>\n",
       "      <td>Administração</td>\n",
       "    </tr>\n",
       "    <tr>\n",
       "      <th>2</th>\n",
       "      <td>Pedro</td>\n",
       "      <td>23</td>\n",
       "      <td>Direito</td>\n",
       "    </tr>\n",
       "    <tr>\n",
       "      <th>3</th>\n",
       "      <td>Ana</td>\n",
       "      <td>11</td>\n",
       "      <td>Medicina</td>\n",
       "    </tr>\n",
       "  </tbody>\n",
       "</table>\n",
       "</div>"
      ],
      "text/plain": [
       "   Nomes  Idades          Curso\n",
       "0   João      19     Engenharia\n",
       "1  Maria      20  Administração\n",
       "2  Pedro      23        Direito\n",
       "3    Ana      11       Medicina"
      ]
     },
     "execution_count": 49,
     "metadata": {},
     "output_type": "execute_result"
    }
   ],
   "source": [
    "idades = [19,20,23,11]\n",
    "nomes = [\"João\", \"Maria\", \"Pedro\", \"Ana\"]\n",
    "curso = [\"Engenharia\", \"Administração\", \"Direito\", \"Medicina\"]\n",
    "\n",
    "dados = list(zip(nomes, idades, curso))\n",
    "print(dados)\n",
    "dft5 = pd.DataFrame(dados, columns = [\"Nomes\", \"Idades\", \"Curso\"])\n",
    "dft5"
   ]
  },
  {
   "cell_type": "code",
   "execution_count": 50,
   "id": "ee50a352",
   "metadata": {},
   "outputs": [
    {
     "data": {
      "text/html": [
       "<div>\n",
       "<style scoped>\n",
       "    .dataframe tbody tr th:only-of-type {\n",
       "        vertical-align: middle;\n",
       "    }\n",
       "\n",
       "    .dataframe tbody tr th {\n",
       "        vertical-align: top;\n",
       "    }\n",
       "\n",
       "    .dataframe thead th {\n",
       "        text-align: right;\n",
       "    }\n",
       "</style>\n",
       "<table border=\"1\" class=\"dataframe\">\n",
       "  <thead>\n",
       "    <tr style=\"text-align: right;\">\n",
       "      <th></th>\n",
       "      <th>Produtos</th>\n",
       "      <th>Quantidade</th>\n",
       "      <th>Preço (kwzs)</th>\n",
       "    </tr>\n",
       "  </thead>\n",
       "  <tbody>\n",
       "    <tr>\n",
       "      <th>0</th>\n",
       "      <td>Arroz</td>\n",
       "      <td>1</td>\n",
       "      <td>500</td>\n",
       "    </tr>\n",
       "    <tr>\n",
       "      <th>1</th>\n",
       "      <td>Feijão</td>\n",
       "      <td>2</td>\n",
       "      <td>1500</td>\n",
       "    </tr>\n",
       "    <tr>\n",
       "      <th>2</th>\n",
       "      <td>Macarrão</td>\n",
       "      <td>3</td>\n",
       "      <td>400</td>\n",
       "    </tr>\n",
       "    <tr>\n",
       "      <th>3</th>\n",
       "      <td>Carne</td>\n",
       "      <td>4</td>\n",
       "      <td>2000</td>\n",
       "    </tr>\n",
       "  </tbody>\n",
       "</table>\n",
       "</div>"
      ],
      "text/plain": [
       "   Produtos  Quantidade  Preço (kwzs)\n",
       "0     Arroz           1           500\n",
       "1    Feijão           2          1500\n",
       "2  Macarrão           3           400\n",
       "3     Carne           4          2000"
      ]
     },
     "execution_count": 50,
     "metadata": {},
     "output_type": "execute_result"
    }
   ],
   "source": [
    "# Criando uma outra coluna\n",
    "lista_compras = [\"Arroz\", \"Feijão\", \"Macarrão\", \"Carne\"]\n",
    "quantidade_compras = [1,2,3,4]\n",
    "preco = [500,1500,400,2000]\n",
    "dados_compras = list(zip(lista_compras, quantidade_compras, preco))\n",
    "dft6 = pd.DataFrame(dados_compras, columns = [\"Produtos\", \"Quantidade\", \"Preço (kwzs)\"])\n",
    "dft6"
   ]
  },
  {
   "cell_type": "code",
   "execution_count": 51,
   "id": "c5f69716",
   "metadata": {},
   "outputs": [
    {
     "data": {
      "text/html": [
       "<div>\n",
       "<style scoped>\n",
       "    .dataframe tbody tr th:only-of-type {\n",
       "        vertical-align: middle;\n",
       "    }\n",
       "\n",
       "    .dataframe tbody tr th {\n",
       "        vertical-align: top;\n",
       "    }\n",
       "\n",
       "    .dataframe thead th {\n",
       "        text-align: right;\n",
       "    }\n",
       "</style>\n",
       "<table border=\"1\" class=\"dataframe\">\n",
       "  <thead>\n",
       "    <tr style=\"text-align: right;\">\n",
       "      <th></th>\n",
       "      <th>Nomes</th>\n",
       "      <th>Idades</th>\n",
       "      <th>Curso</th>\n",
       "      <th>Turma</th>\n",
       "    </tr>\n",
       "  </thead>\n",
       "  <tbody>\n",
       "    <tr>\n",
       "      <th>0</th>\n",
       "      <td>João</td>\n",
       "      <td>19</td>\n",
       "      <td>Engenharia</td>\n",
       "      <td>A</td>\n",
       "    </tr>\n",
       "    <tr>\n",
       "      <th>1</th>\n",
       "      <td>Maria</td>\n",
       "      <td>20</td>\n",
       "      <td>Administração</td>\n",
       "      <td>B</td>\n",
       "    </tr>\n",
       "    <tr>\n",
       "      <th>2</th>\n",
       "      <td>Pedro</td>\n",
       "      <td>23</td>\n",
       "      <td>Direito</td>\n",
       "      <td>C</td>\n",
       "    </tr>\n",
       "    <tr>\n",
       "      <th>3</th>\n",
       "      <td>Ana</td>\n",
       "      <td>11</td>\n",
       "      <td>Medicina</td>\n",
       "      <td>D</td>\n",
       "    </tr>\n",
       "  </tbody>\n",
       "</table>\n",
       "</div>"
      ],
      "text/plain": [
       "   Nomes  Idades          Curso Turma\n",
       "0   João      19     Engenharia     A\n",
       "1  Maria      20  Administração     B\n",
       "2  Pedro      23        Direito     C\n",
       "3    Ana      11       Medicina     D"
      ]
     },
     "execution_count": 51,
     "metadata": {},
     "output_type": "execute_result"
    }
   ],
   "source": [
    "dft5[\"Turma\"] = [\"A\", \"B\", \"C\", \"D\"] # adicionando uma nova coluna.\n",
    "dft5"
   ]
  },
  {
   "cell_type": "markdown",
   "id": "6fefcc1e",
   "metadata": {},
   "source": [
    "## Dtype\n",
    "\n",
    "*   recebe um tipo de dados com intuito de forçar a conversão do tipo de dados do DataFrame. Por padrão, esse parâmetro recebe valor None e os tipos dos dados são inferidos."
   ]
  },
  {
   "cell_type": "code",
   "execution_count": 52,
   "id": "231a44e8",
   "metadata": {},
   "outputs": [
    {
     "data": {
      "text/html": [
       "<div>\n",
       "<style scoped>\n",
       "    .dataframe tbody tr th:only-of-type {\n",
       "        vertical-align: middle;\n",
       "    }\n",
       "\n",
       "    .dataframe tbody tr th {\n",
       "        vertical-align: top;\n",
       "    }\n",
       "\n",
       "    .dataframe thead th {\n",
       "        text-align: right;\n",
       "    }\n",
       "</style>\n",
       "<table border=\"1\" class=\"dataframe\">\n",
       "  <thead>\n",
       "    <tr style=\"text-align: right;\">\n",
       "      <th></th>\n",
       "      <th>Idades</th>\n",
       "    </tr>\n",
       "  </thead>\n",
       "  <tbody>\n",
       "    <tr>\n",
       "      <th>0</th>\n",
       "      <td>25.0</td>\n",
       "    </tr>\n",
       "    <tr>\n",
       "      <th>1</th>\n",
       "      <td>30.0</td>\n",
       "    </tr>\n",
       "    <tr>\n",
       "      <th>2</th>\n",
       "      <td>22.0</td>\n",
       "    </tr>\n",
       "  </tbody>\n",
       "</table>\n",
       "</div>"
      ],
      "text/plain": [
       "   Idades\n",
       "0    25.0\n",
       "1    30.0\n",
       "2    22.0"
      ]
     },
     "execution_count": 52,
     "metadata": {},
     "output_type": "execute_result"
    }
   ],
   "source": [
    "idades = dtf.Idade.values\n",
    "dft7 = pd.DataFrame(idades, columns = [\"Idades\"], dtype = float)\n",
    "dft7"
   ]
  },
  {
   "cell_type": "code",
   "execution_count": 82,
   "id": "e1549593",
   "metadata": {},
   "outputs": [
    {
     "data": {
      "text/html": [
       "<div>\n",
       "<style scoped>\n",
       "    .dataframe tbody tr th:only-of-type {\n",
       "        vertical-align: middle;\n",
       "    }\n",
       "\n",
       "    .dataframe tbody tr th {\n",
       "        vertical-align: top;\n",
       "    }\n",
       "\n",
       "    .dataframe thead th {\n",
       "        text-align: right;\n",
       "    }\n",
       "</style>\n",
       "<table border=\"1\" class=\"dataframe\">\n",
       "  <thead>\n",
       "    <tr style=\"text-align: right;\">\n",
       "      <th></th>\n",
       "      <th>produtos</th>\n",
       "    </tr>\n",
       "  </thead>\n",
       "  <tbody>\n",
       "    <tr>\n",
       "      <th>0</th>\n",
       "      <td>34.40</td>\n",
       "    </tr>\n",
       "    <tr>\n",
       "      <th>1</th>\n",
       "      <td>45.00</td>\n",
       "    </tr>\n",
       "    <tr>\n",
       "      <th>2</th>\n",
       "      <td>33.01</td>\n",
       "    </tr>\n",
       "    <tr>\n",
       "      <th>3</th>\n",
       "      <td>2.00</td>\n",
       "    </tr>\n",
       "  </tbody>\n",
       "</table>\n",
       "</div>"
      ],
      "text/plain": [
       "   produtos\n",
       "0     34.40\n",
       "1     45.00\n",
       "2     33.01\n",
       "3      2.00"
      ]
     },
     "execution_count": 82,
     "metadata": {},
     "output_type": "execute_result"
    }
   ],
   "source": [
    "produtos = {\n",
    "    \"produtos\": [\"34.4\", 45, 33.01 ,2]\n",
    "}\n",
    "pdt = pd.DataFrame(produtos, dtype = float)\n",
    "pdt"
   ]
  }
 ],
 "metadata": {
  "kernelspec": {
   "display_name": "Python 3",
   "language": "python",
   "name": "python3"
  },
  "language_info": {
   "codemirror_mode": {
    "name": "ipython",
    "version": 3
   },
   "file_extension": ".py",
   "mimetype": "text/x-python",
   "name": "python",
   "nbconvert_exporter": "python",
   "pygments_lexer": "ipython3",
   "version": "3.13.2"
  }
 },
 "nbformat": 4,
 "nbformat_minor": 5
}
